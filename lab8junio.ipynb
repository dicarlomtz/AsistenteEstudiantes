{
  "nbformat": 4,
  "nbformat_minor": 0,
  "metadata": {
    "colab": {
      "name": "lab8junio.ipynb",
      "provenance": [],
      "authorship_tag": "ABX9TyPT4qqml7T5OHVBQwMP9wMa",
      "include_colab_link": true
    },
    "kernelspec": {
      "name": "python3",
      "display_name": "Python 3"
    },
    "language_info": {
      "name": "python"
    }
  },
  "cells": [
    {
      "cell_type": "markdown",
      "metadata": {
        "id": "view-in-github",
        "colab_type": "text"
      },
      "source": [
        "<a href=\"https://colab.research.google.com/github/dicarlomtz/AsistenteEstudiantes/blob/main/lab8junio.ipynb\" target=\"_parent\"><img src=\"https://colab.research.google.com/assets/colab-badge.svg\" alt=\"Open In Colab\"/></a>"
      ]
    },
    {
      "cell_type": "markdown",
      "source": [
        "**Lab inicial de colab**"
      ],
      "metadata": {
        "id": "DpNnIb49BcLj"
      }
    },
    {
      "cell_type": "markdown",
      "source": [
        "Di Carlo Martínez"
      ],
      "metadata": {
        "id": "sEtXgtJiBsTn"
      }
    },
    {
      "cell_type": "code",
      "source": [
        "import pandas as pd\n",
        " \n",
        "from google.colab import auth\n",
        "auth.authenticate_user()\n",
        " \n",
        "import gspread\n",
        "from google.auth import default\n",
        "creds, _ = default()\n",
        " \n",
        "gc= gspread.authorize(creds)\n",
        "sh= gc.create('sheet') "
      ],
      "metadata": {
        "id": "IRcb-3jiCO0X"
      },
      "execution_count": 3,
      "outputs": []
    },
    {
      "cell_type": "code",
      "source": [
        "from gspread.models import Worksheet\n",
        "worksheet = gc.open('sheet').sheet1\n",
        "\n",
        "cell_list = worksheet.range('A1:G14')\n",
        "\n",
        "import random\n",
        "\n",
        "for cell in cell_list:\n",
        "  cell.value = random.randint(1, 10)\n",
        "\n",
        "worksheet.update_cells(cell_list)"
      ],
      "metadata": {
        "colab": {
          "base_uri": "https://localhost:8080/"
        },
        "id": "OFODZjdTFS7R",
        "outputId": "ba999e29-8f6f-4dfc-8010-83e6c5eae66c"
      },
      "execution_count": 4,
      "outputs": [
        {
          "output_type": "execute_result",
          "data": {
            "text/plain": [
              "{'spreadsheetId': '1nLFXuuNRD3Nhh5FmBJZYuDV7LpSh6ggdLdL7rkOVMSc',\n",
              " 'updatedCells': 98,\n",
              " 'updatedColumns': 7,\n",
              " 'updatedRange': \"'Hoja 1'!A1:G14\",\n",
              " 'updatedRows': 14}"
            ]
          },
          "metadata": {},
          "execution_count": 4
        }
      ]
    },
    {
      "cell_type": "code",
      "source": [
        ""
      ],
      "metadata": {
        "id": "9MbupnerH-A9"
      },
      "execution_count": null,
      "outputs": []
    },
    {
      "cell_type": "code",
      "source": [
        "worksheet = gc.open('sheet').sheet1\n",
        "rows = worksheet.get_all_values()\n",
        "print(rows)"
      ],
      "metadata": {
        "colab": {
          "base_uri": "https://localhost:8080/"
        },
        "id": "LlCXBzStH-Jc",
        "outputId": "ef65f01e-526e-42e9-ba19-d512d28ae94d"
      },
      "execution_count": 5,
      "outputs": [
        {
          "output_type": "stream",
          "name": "stdout",
          "text": [
            "[['4', '1', '8', '6', '4', '7', '1'], ['10', '8', '4', '3', '8', '5', '8'], ['8', '10', '2', '8', '1', '3', '5'], ['7', '4', '6', '9', '7', '10', '8'], ['7', '2', '5', '1', '5', '3', '6'], ['2', '5', '3', '10', '6', '1', '8'], ['10', '10', '4', '6', '3', '9', '1'], ['9', '3', '10', '8', '5', '10', '5'], ['7', '8', '7', '2', '2', '7', '9'], ['6', '5', '4', '5', '1', '5', '4'], ['1', '8', '10', '1', '10', '9', '2'], ['1', '10', '10', '5', '1', '1', '6'], ['8', '9', '4', '10', '3', '4', '9'], ['8', '10', '2', '9', '8', '2', '7']]\n"
          ]
        }
      ]
    }
  ]
}